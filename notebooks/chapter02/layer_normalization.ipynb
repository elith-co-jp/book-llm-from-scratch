{
 "cells": [
  {
   "cell_type": "code",
   "execution_count": 1,
   "metadata": {},
   "outputs": [],
   "source": [
    "import torch\n",
    "from torch import nn\n",
    "\n",
    "batch, sentence_length, embedding_dim = 20, 5, 10\n",
    "# 擬似的に埋め込みベクトルを作成\n",
    "embedding = torch.randn(batch, sentence_length, embedding_dim)\n",
    "\n",
    "# LayerNormの計算\n",
    "eps = 1e-6\n",
    "mean = embedding.mean(axis=[-1], keepdim=True)\n",
    "var = embedding.std(axis=[-1], keepdim=True, unbiased=False)\n",
    "normalized_embedding = (embedding - mean) / var.add(eps)\n",
    "\n",
    "# PyTorch の LayerNorm\n",
    "layer_norm = nn.LayerNorm(embedding_dim)\n",
    "output1 = layer_norm(embedding)"
   ]
  },
  {
   "cell_type": "code",
   "execution_count": 2,
   "metadata": {},
   "outputs": [
    {
     "name": "stdout",
     "output_type": "stream",
     "text": [
      "True\n"
     ]
    }
   ],
   "source": [
    "# 出力がが一致するか確認\n",
    "print(torch.allclose(normalized_embedding, output1, atol=1e-4))"
   ]
  },
  {
   "cell_type": "code",
   "execution_count": null,
   "metadata": {},
   "outputs": [],
   "source": []
  }
 ],
 "metadata": {
  "kernelspec": {
   "display_name": ".venv",
   "language": "python",
   "name": "python3"
  },
  "language_info": {
   "codemirror_mode": {
    "name": "ipython",
    "version": 3
   },
   "file_extension": ".py",
   "mimetype": "text/x-python",
   "name": "python",
   "nbconvert_exporter": "python",
   "pygments_lexer": "ipython3",
   "version": "3.11.3"
  }
 },
 "nbformat": 4,
 "nbformat_minor": 2
}
