{
 "cells": [
  {
   "cell_type": "code",
   "execution_count": 2,
   "metadata": {},
   "outputs": [
    {
     "name": "stdout",
     "output_type": "stream",
     "text": [
      "torch.Size([2, 3, 5])\n"
     ]
    }
   ],
   "source": [
    "import torch\n",
    "\n",
    "from llm_from_scratch.transformer.attention import DotProductAttention\n",
    "\n",
    "attention = DotProductAttention()\n",
    "\n",
    "# 1. query と key から、(batch_size, query_len, key_len)のスコアを計算\n",
    "query = torch.randn(2, 3, 5)\n",
    "key = torch.randn(2, 4, 5)\n",
    "value = torch.randn(2, 4, 5)\n",
    "\n",
    "output = attention(query, key, value)\n",
    "print(output.shape)  # torch.Size([2, 3, 5])"
   ]
  },
  {
   "cell_type": "code",
   "execution_count": null,
   "metadata": {},
   "outputs": [],
   "source": []
  }
 ],
 "metadata": {
  "kernelspec": {
   "display_name": ".venv",
   "language": "python",
   "name": "python3"
  },
  "language_info": {
   "codemirror_mode": {
    "name": "ipython",
    "version": 3
   },
   "file_extension": ".py",
   "mimetype": "text/x-python",
   "name": "python",
   "nbconvert_exporter": "python",
   "pygments_lexer": "ipython3",
   "version": "3.11.3"
  }
 },
 "nbformat": 4,
 "nbformat_minor": 2
}
