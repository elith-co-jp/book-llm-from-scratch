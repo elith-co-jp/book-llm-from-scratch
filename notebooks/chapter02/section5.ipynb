{
 "cells": [
  {
   "cell_type": "markdown",
   "metadata": {},
   "source": [
    "# 2.5.1 クロスエントロピー"
   ]
  },
  {
   "cell_type": "code",
   "execution_count": null,
   "metadata": {},
   "outputs": [],
   "source": [
    "import torch\n",
    "from torch import nn\n",
    "\n",
    "p1 = torch.tensor([1.0, 0.0, 0.0])\n",
    "p2 = torch.tensor([0.7, 0.2, 0.1])\n",
    "p3 = torch.tensor([0.1, 0.2, 0.7])\n",
    "\n",
    "cross_entropy = nn.CrossEntropyLoss()\n",
    "print(cross_entropy(p1, p2))\n",
    "print(cross_entropy(p1, p3))"
   ]
  },
  {
   "cell_type": "markdown",
   "metadata": {},
   "source": [
    "## マスク"
   ]
  },
  {
   "cell_type": "code",
   "execution_count": null,
   "metadata": {},
   "outputs": [],
   "source": [
    "from torch import Tensor\n",
    "\n",
    "\n",
    "def create_padding_mask(pad_id: int, batch_tokens: Tensor):\n",
    "    # batch_tokens.shape == (batch_size, sequence_length)\n",
    "    mask = batch_tokens == pad_id\n",
    "    mask = mask.unsqueeze(1)\n",
    "    return mask"
   ]
  },
  {
   "cell_type": "code",
   "execution_count": null,
   "metadata": {},
   "outputs": [],
   "source": [
    "# パディングマスクの動作確認\n",
    "batch_size = 3\n",
    "sequence_length = 5\n",
    "tokens = torch.Tensor([[5, 3, 3, 0, 0], [1, 9, 4, 3, 1], [5, 3, 5, 1, 0]])\n",
    "padding_id = 0\n",
    "score = torch.randn(batch_size, sequence_length, sequence_length)\n",
    "mask = create_padding_mask(padding_id, tokens)\n",
    "print(mask.shape)  # torch.Size([3, 1, 5])\n",
    "masked_score = score.masked_fill(mask, float(\"-inf\"))\n",
    "print(masked_score[0])"
   ]
  },
  {
   "cell_type": "code",
   "execution_count": null,
   "metadata": {},
   "outputs": [],
   "source": [
    "def create_subsequent_mask(batch_tokens: Tensor):\n",
    "    sequence_len = batch_tokens.size(1)\n",
    "    mask = torch.triu(\n",
    "        torch.full((sequence_len, sequence_len), 1),\n",
    "        diagonal=1,\n",
    "    )\n",
    "    mask = mask == 1\n",
    "    mask = mask.unsqueeze(0)\n",
    "    return mask"
   ]
  },
  {
   "cell_type": "code",
   "execution_count": null,
   "metadata": {},
   "outputs": [],
   "source": [
    "# 後続マスクの動作確認\n",
    "batch_size = 3\n",
    "sequence_length = 5\n",
    "tokens = torch.randn(batch_size, sequence_length)\n",
    "score = torch.randn(batch_size, sequence_length, sequence_length)\n",
    "mask = create_subsequent_mask(tokens)\n",
    "print(mask.shape)  # torch.Size([3, 5, 5])\n",
    "masked_score = score.masked_fill(mask, float(\"-inf\"))\n",
    "print(masked_score[0])"
   ]
  },
  {
   "cell_type": "markdown",
   "metadata": {},
   "source": [
    "# 2.5.3 Transformer の学習"
   ]
  },
  {
   "cell_type": "code",
   "execution_count": null,
   "metadata": {},
   "outputs": [],
   "source": [
    "from pathlib import Path\n",
    "\n",
    "import torch\n",
    "from torch import Tensor, nn\n",
    "\n",
    "from llm_from_scratch.transformer.transformer import Encoder, Transformer"
   ]
  },
  {
   "cell_type": "code",
   "execution_count": null,
   "metadata": {},
   "outputs": [],
   "source": [
    "data_dir = Path(\"small_parallel_enja\")\n",
    "if not data_dir.exists():\n",
    "    !git clone https://github.com/odashi/small_parallel_enja.git {data_dir}\n",
    "\n",
    "train_ja = data_dir / \"train.ja.000\"\n",
    "train_en = data_dir / \"train.en.000\""
   ]
  },
  {
   "cell_type": "code",
   "execution_count": null,
   "metadata": {},
   "outputs": [],
   "source": [
    "from typing import Iterator\n",
    "from torchtext.vocab import build_vocab_from_iterator\n",
    "\n",
    "\n",
    "def iter_corpus(\n",
    "    path: Path,\n",
    "    bos: str | None = \"<bos>\",\n",
    "    eos: str | None = \"<eos>\",\n",
    ") -> Iterator[list[str]]:\n",
    "    with path.open(\"r\") as f:\n",
    "        for line in f:\n",
    "            if bos:\n",
    "                line = bos + \" \" + line\n",
    "            if eos:\n",
    "                line = line + \" \" + eos\n",
    "            yield line.split()\n",
    "\n",
    "\n",
    "train_tokens_ja = [tokens for tokens in iter_corpus(train_ja)]\n",
    "train_tokens_en = [tokens for tokens in iter_corpus(train_en)]"
   ]
  },
  {
   "cell_type": "code",
   "execution_count": null,
   "metadata": {},
   "outputs": [],
   "source": [
    "print(train_tokens_ja[:3])\n",
    "print(train_tokens_en[:3])"
   ]
  },
  {
   "cell_type": "code",
   "execution_count": null,
   "metadata": {},
   "outputs": [],
   "source": [
    "vocab_ja = build_vocab_from_iterator(\n",
    "    iterator=train_tokens_ja,\n",
    "    specials=(\"<unk>\", \"<pad>\", \"<bos>\", \"<eos>\"),\n",
    ")\n",
    "vocab_ja.set_default_index(vocab_ja[\"<unk>\"])\n",
    "vocab_en = build_vocab_from_iterator(\n",
    "    iterator=train_tokens_en,\n",
    "    specials=(\"<unk>\", \"<pad>\", \"<bos>\", \"<eos>\"),\n",
    ")\n",
    "vocab_en.set_default_index(vocab_en[\"<unk>\"])"
   ]
  },
  {
   "cell_type": "code",
   "execution_count": null,
   "metadata": {},
   "outputs": [],
   "source": [
    "print(\"<unk>:\", vocab_ja[\"<unk>\"])\n",
    "tokens = [\"<bos>\", \"吾輩\", \"は\", \"猫\", \"で\", \"ある\", \"<eos>\"]\n",
    "for token in tokens:\n",
    "    print(vocab_ja[token], end=\" \")"
   ]
  },
  {
   "cell_type": "code",
   "execution_count": null,
   "metadata": {},
   "outputs": [],
   "source": [
    "from torch.utils.data import DataLoader\n",
    "from torchtext import transforms\n",
    "\n",
    "src_transforms = transforms.Sequential(\n",
    "    transforms.VocabTransform(vocab_ja),\n",
    "    transforms.ToTensor(padding_value=vocab_ja[\"<pad>\"]),\n",
    ")\n",
    "tgt_transforms = transforms.Sequential(\n",
    "    transforms.VocabTransform(vocab_en),\n",
    "    transforms.ToTensor(padding_value=vocab_en[\"<pad>\"]),\n",
    ")\n",
    "\n",
    "\n",
    "def collate_fn(batch: Tensor) -> tuple[Tensor, Tensor]:\n",
    "    src_texts, tgt_texts = [], []\n",
    "    for s, t in batch:\n",
    "        src_texts.append(s)\n",
    "        tgt_texts.append(t)\n",
    "\n",
    "    src_texts = src_transforms(src_texts)\n",
    "    tgt_texts = tgt_transforms(tgt_texts)\n",
    "\n",
    "    return src_texts, tgt_texts"
   ]
  },
  {
   "cell_type": "code",
   "execution_count": null,
   "metadata": {},
   "outputs": [],
   "source": [
    "train_loader = DataLoader(\n",
    "    list(zip(train_tokens_ja, train_tokens_en)),\n",
    "    batch_size=16,\n",
    "    shuffle=True,\n",
    "    collate_fn=collate_fn,\n",
    ")"
   ]
  },
  {
   "cell_type": "code",
   "execution_count": null,
   "metadata": {},
   "outputs": [],
   "source": [
    "# batch = next(iter(train_loader))\n",
    "# src_texts, tgt_texts = batch\n",
    "# print(src_texts.shape)\n",
    "# print(tgt_texts.shape)"
   ]
  },
  {
   "cell_type": "code",
   "execution_count": null,
   "metadata": {},
   "outputs": [],
   "source": [
    "device = torch.device(\"cuda\" if torch.cuda.is_available() else \"cpu\")\n",
    "print(device, \"を使用\")\n",
    "\n",
    "embedding_dim = 512\n",
    "n_blocks = 6\n",
    "n_heads = 8\n",
    "expansion_rate = 1\n",
    "\n",
    "# 語彙数を取得\n",
    "src_vocab_size = len(vocab_ja)\n",
    "tgt_vocab_size = len(vocab_en)\n",
    "\n",
    "# 最も長い文章の長さを取得\n",
    "max_len_ja = len(max(train_tokens_ja, key=lambda x: len(x)))\n",
    "max_len_en = len(max(train_tokens_en, key=lambda x: len(x)))\n",
    "max_length = max(max_len_ja, max_len_en)\n",
    "\n",
    "model = Transformer(\n",
    "    src_vocab_size,\n",
    "    tgt_vocab_size,\n",
    "    max_sequence_len=max_length,\n",
    "    d_model=embedding_dim,\n",
    "    n_blocks=n_blocks,\n",
    "    n_heads=n_heads,\n",
    "    d_k=embedding_dim,\n",
    "    d_v=embedding_dim,\n",
    "    d_ff=embedding_dim * expansion_rate,\n",
    ").to(device)"
   ]
  },
  {
   "cell_type": "code",
   "execution_count": null,
   "metadata": {},
   "outputs": [],
   "source": [
    "PAD_ID = vocab_ja[\"<pad>\"]\n",
    "criterion = nn.CrossEntropyLoss(ignore_index=PAD_ID)  # クロスエントロピー\n",
    "lr = 0.0001  # 学習率\n",
    "optimizer = torch.optim.AdamW(model.parameters(), lr=lr)\n",
    "scheduler = torch.optim.lr_scheduler.StepLR(optimizer, 10.0, gamma=0.95)"
   ]
  },
  {
   "cell_type": "code",
   "execution_count": null,
   "metadata": {},
   "outputs": [],
   "source": [
    "def train(model: nn.Module, log_interval: int = 10) -> list[float]:\n",
    "    model.train()\n",
    "    loss_history = []\n",
    "    for i, (src_texts, tgt_texts) in enumerate(train_loader):\n",
    "        # tgt の入力は最後の単語を除く\n",
    "        tgt_input = tgt_texts[:, :-1]\n",
    "        # tgt の出力は最初の単語を除く\n",
    "        tgt_output = tgt_texts[:, 1:]\n",
    "        src_padding_mask = create_padding_mask(PAD_ID, src_texts)\n",
    "        tgt_padding_mask = create_padding_mask(PAD_ID, tgt_input)\n",
    "        tgt_subsequent_mask = create_subsequent_mask(tgt_input)\n",
    "        tgt_mask = tgt_padding_mask + tgt_subsequent_mask\n",
    "        # Tensor のデバイスを設定\n",
    "        src_texts, tgt_input, tgt_output = (\n",
    "            src_texts.to(device),\n",
    "            tgt_input.to(device),\n",
    "            tgt_output.to(device),\n",
    "        )\n",
    "        src_mask, tgt_mask = src_mask.to(device), tgt_mask.to(device)\n",
    "\n",
    "        # モデル出力を取得\n",
    "        out = model(src_texts, tgt_input, src_padding_mask, tgt_mask, src_padding_mask)\n",
    "        # 出力と教師データを1次元に変換\n",
    "        out_flat = out.view(-1, out.size(-1))\n",
    "        tgt_flat = tgt_output.flatten()\n",
    "        # 誤差関数を計算\n",
    "        loss = criterion(out_flat, tgt_flat)\n",
    "        optimizer.zero_grad()\n",
    "        # 誤差逆伝播\n",
    "        loss.backward()\n",
    "        optimizer.step()\n",
    "        if (i + 1) % log_interval == 0:\n",
    "            print(f\"step {i+1}: train loss = {loss.item()}\")\n",
    "        loss_history.append(loss.item())\n",
    "    return loss_history"
   ]
  },
  {
   "cell_type": "code",
   "execution_count": null,
   "metadata": {},
   "outputs": [],
   "source": [
    "from tqdm.auto import tqdm\n",
    "\n",
    "n_epochs = 20  # エポック数\n",
    "pbar = tqdm(total=n_epochs)\n",
    "for epoch in range(n_epochs):\n",
    "    pbar.update(1)\n",
    "    pbar.set_description(desc=\"Epoch\")\n",
    "    train(model)"
   ]
  },
  {
   "cell_type": "code",
   "execution_count": null,
   "metadata": {},
   "outputs": [],
   "source": [
    "text = \"<bos> 今日 の 天気 は 晴れ です 。 <eos>\"\n",
    "tokens = text.split()\n",
    "input_tokens = src_transforms([tokens]).to(device)\n",
    "tgt_tokens = model.inference(input_tokens, bos_token=vocab_ja[\"<bos>\"])\n",
    "itos = vocab_en.get_itos()\n",
    "text = \" \".join(itos[token_id] for token_id in tgt_tokens[0])\n",
    "print(text)"
   ]
  }
 ],
 "metadata": {
  "kernelspec": {
   "display_name": ".venv",
   "language": "python",
   "name": "python3"
  },
  "language_info": {
   "codemirror_mode": {
    "name": "ipython",
    "version": 3
   },
   "file_extension": ".py",
   "mimetype": "text/x-python",
   "name": "python",
   "nbconvert_exporter": "python",
   "pygments_lexer": "ipython3",
   "version": "3.11.3"
  }
 },
 "nbformat": 4,
 "nbformat_minor": 2
}
