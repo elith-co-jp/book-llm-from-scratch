{
 "cells": [
  {
   "cell_type": "markdown",
   "metadata": {},
   "source": [
    "# 2.3.1"
   ]
  },
  {
   "cell_type": "code",
   "execution_count": null,
   "metadata": {},
   "outputs": [],
   "source": [
    "import torch\n",
    "from torch import nn\n",
    "\n",
    "vocabulary_size = 100\n",
    "d_model = 512\n",
    "\n",
    "embedding = nn.Embedding(vocabulary_size, d_model)\n",
    "tokens = torch.Tensor([1, 2, 3]).long()\n",
    "\n",
    "print(embedding(tokens).shape)"
   ]
  },
  {
   "cell_type": "markdown",
   "metadata": {},
   "source": [
    "# 2.3.2"
   ]
  },
  {
   "cell_type": "code",
   "execution_count": null,
   "metadata": {},
   "outputs": [],
   "source": [
    "from llm_from_scratch.transformer.utils import sinusoidal_position_encoding"
   ]
  },
  {
   "cell_type": "code",
   "execution_count": null,
   "metadata": {},
   "outputs": [],
   "source": [
    "d_model = 128\n",
    "sequence_length = 100\n",
    "pe = sinusoidal_position_encoding(d_model=d_model, sequence_length=sequence_length)[0]"
   ]
  },
  {
   "cell_type": "code",
   "execution_count": null,
   "metadata": {},
   "outputs": [],
   "source": [
    "import matplotlib.pyplot as plt\n",
    "import japanize_matplotlib\n",
    "\n",
    "fig, ax = plt.subplots(figsize=(10, 6))\n",
    "cax = ax.matshow(pe, cmap=\"gray\")\n",
    "fig.colorbar(cax)\n",
    "ax.set_xlabel(\"次元\")\n",
    "ax.set_ylabel(\"位置\")\n",
    "fig.savefig(\"sinusoidal_position_encoding.png\", bbox_inches=\"tight\")\n",
    "plt.show()"
   ]
  },
  {
   "cell_type": "code",
   "execution_count": null,
   "metadata": {},
   "outputs": [],
   "source": [
    "import torch\n",
    "\n",
    "dotprod = torch.matmul(pe, pe.transpose(0, 1))\n",
    "\n",
    "fig, ax = plt.subplots(figsize=(10, 10))\n",
    "\n",
    "cax = ax.matshow(dotprod, cmap=\"gray\")\n",
    "fig.colorbar(cax)\n",
    "ax.set_title(\"位置エンコーディングの内積\")\n",
    "ax.set_xlabel(\"位置\")\n",
    "ax.set_ylabel(\"位置\")\n",
    "fig.savefig(\"sinusoidal_position_encoding_dotprod.png\", bbox_inches=\"tight\")\n",
    "plt.show()"
   ]
  },
  {
   "cell_type": "code",
   "execution_count": null,
   "metadata": {},
   "outputs": [],
   "source": [
    "import numpy as np\n",
    "\n",
    "\n",
    "dots = np.zeros(sequence_length)\n",
    "for pos in range(sequence_length):\n",
    "    total = 0\n",
    "    for d in range(d_model // 2):\n",
    "        total += np.cos(pos / (10000 ** (2 * d / d_model)))\n",
    "    dots[pos] = total"
   ]
  },
  {
   "cell_type": "code",
   "execution_count": null,
   "metadata": {},
   "outputs": [],
   "source": [
    "fig, ax = plt.subplots(1, 2, figsize=(12, 5))\n",
    "ax[0].plot(dots)\n",
    "ax[1].plot(dots)\n",
    "for i in range(sequence_length):\n",
    "    ax[1].plot(dotprod[i, i:])\n",
    "ax[0].set_xlabel(\"位置の差\")\n",
    "ax[1].set_xlabel(\"位置の差\")\n",
    "ax[0].set_title(\"理論値\")\n",
    "ax[1].set_title(\"実測値\")\n",
    "ax[0].set_ylabel(\"内積\")\n",
    "ax[1].set_ylabel(\"内積\")\n",
    "plt.show()"
   ]
  },
  {
   "cell_type": "markdown",
   "metadata": {},
   "source": [
    "# 2.3.3"
   ]
  },
  {
   "cell_type": "code",
   "execution_count": 3,
   "metadata": {},
   "outputs": [
    {
     "name": "stdout",
     "output_type": "stream",
     "text": [
      "input shape: torch.Size([1, 10, 512])\n",
      "output shape: torch.Size([1, 10, 512])\n"
     ]
    }
   ],
   "source": [
    "import torch\n",
    "from torch import nn\n",
    "\n",
    "d_model = 512\n",
    "d_ff = d_model * 4\n",
    "\n",
    "feed_forward = nn.Sequential(\n",
    "    nn.Linear(d_model, d_ff),\n",
    "    nn.ReLU(),\n",
    "    nn.Linear(d_ff, d_model),\n",
    ")\n",
    "\n",
    "x = torch.randn(1, 10, d_model)\n",
    "\n",
    "print(\"input shape:\", x.shape)\n",
    "print(\"output shape:\", feed_forward(x).shape)"
   ]
  },
  {
   "cell_type": "markdown",
   "metadata": {},
   "source": [
    "# 2.3.4"
   ]
  },
  {
   "cell_type": "code",
   "execution_count": null,
   "metadata": {},
   "outputs": [],
   "source": [
    "import torch\n",
    "from torch import nn\n",
    "\n",
    "\n",
    "class FNN(nn.Module):\n",
    "    def __init__(self, d_model, d_ff):\n",
    "        super(FNN, self).__init__()\n",
    "        self.linear1 = nn.Linear(d_model, d_ff)\n",
    "        self.linear2 = nn.Linear(d_ff, d_model)\n",
    "\n",
    "    def forward(self, x):\n",
    "        return self.linear2(torch.relu(self.linear1(x)))\n",
    "\n",
    "\n",
    "class SkipConnection(nn.Module):\n",
    "    def __init__(self, d_model, d_ff):\n",
    "        super(SkipConnection, self).__init__()\n",
    "        self.sublayer = FNN(d_model, d_ff)\n",
    "\n",
    "    def forward(self, x):\n",
    "        return x + self.sublayer(x)"
   ]
  },
  {
   "cell_type": "code",
   "execution_count": null,
   "metadata": {},
   "outputs": [],
   "source": [
    "# 恒等関数の学習\n",
    "from tqdm.auto import tqdm\n",
    "\n",
    "n_epochs = 100\n",
    "N = 10000\n",
    "data = torch.randn(N, 10)\n",
    "\n",
    "model1 = FNN(10, 128)\n",
    "model2 = SkipConnection(10, 128)\n",
    "\n",
    "criterion = nn.MSELoss()\n",
    "optimizer1 = torch.optim.Adam(model1.parameters(), lr=0.001)\n",
    "optimizer2 = torch.optim.Adam(model2.parameters(), lr=0.001)\n",
    "\n",
    "pbar = tqdm(total=n_epochs, position=0)\n",
    "loss1_history = []\n",
    "loss2_history = []\n",
    "for epoch in range(n_epochs):\n",
    "    pbar.update(1)\n",
    "    optimizer1.zero_grad()\n",
    "    optimizer2.zero_grad()\n",
    "\n",
    "    loss1 = criterion(model1(data), data)\n",
    "    loss2 = criterion(model2(data), data)\n",
    "\n",
    "    loss1.backward()\n",
    "    loss2.backward()\n",
    "\n",
    "    optimizer1.step()\n",
    "    optimizer2.step()\n",
    "\n",
    "    loss1_history.append(loss1.item())\n",
    "    loss2_history.append(loss2.item())\n",
    "\n",
    "    if epoch % 10 == 0:\n",
    "        print(f\"Epoch {epoch}: {loss1.item()}, {loss2.item()}\")"
   ]
  },
  {
   "cell_type": "code",
   "execution_count": 13,
   "metadata": {},
   "outputs": [
    {
     "data": {
      "image/png": "[encoded data removed]",
      "text/plain": [
       "<Figure size 1000x600 with 1 Axes>"
      ]
     },
     "metadata": {},
     "output_type": "display_data"
    }
   ],
   "source": [
    "import matplotlib.pyplot as plt\n",
    "import japanize_matplotlib\n",
    "\n",
    "fig, ax = plt.subplots(figsize=(10, 6))\n",
    "ax.plot(loss1_history, label=\"FNN\")\n",
    "ax.plot(loss2_history, label=\"SkipConnection\")\n",
    "ax.set_xlabel(\"epoch\")\n",
    "ax.set_ylabel(\"平均二乗誤差\")\n",
    "ax.legend()\n",
    "\n",
    "fig.savefig(\"skip_connection_loss.png\", bbox_inches=\"tight\")\n",
    "plt.show()"
   ]
  },
  {
   "cell_type": "markdown",
   "metadata": {},
   "source": [
    "# 2.3.5"
   ]
  },
  {
   "cell_type": "code",
   "execution_count": 29,
   "metadata": {},
   "outputs": [
    {
     "name": "stdout",
     "output_type": "stream",
     "text": [
      "tensor(-1.1921e-08) tensor(1.)\n"
     ]
    }
   ],
   "source": [
    "import torch\n",
    "\n",
    "batch, sentence_length, embedding_dim = 20, 5, 10\n",
    "\n",
    "# 埋め込みベクトルを擬似的に生成\n",
    "embedding = torch.randn(batch, sentence_length, embedding_dim)\n",
    "mean = embedding.mean(axis=[-1], keepdim=True)\n",
    "std = embedding.std(axis=[-1], keepdim=True, unbiased=False)\n",
    "\n",
    "# 正規化\n",
    "eps = 1e-8\n",
    "normalized_embedding = (embedding - mean) / std.add(eps)\n",
    "\n",
    "# 3番目の文の2番目の単語位置の特徴ベクトルを取得\n",
    "feature_vector = normalized_embedding[3, 2, :]\n",
    "print(feature_vector.mean(), feature_vector.std(unbiased=False))"
   ]
  },
  {
   "cell_type": "code",
   "execution_count": 28,
   "metadata": {},
   "outputs": [
    {
     "name": "stdout",
     "output_type": "stream",
     "text": [
      "tensor(1.7881e-08) tensor(1.0000)\n"
     ]
    }
   ],
   "source": []
  },
  {
   "cell_type": "code",
   "execution_count": null,
   "metadata": {},
   "outputs": [],
   "source": []
  }
 ],
 "metadata": {
  "kernelspec": {
   "display_name": ".venv",
   "language": "python",
   "name": "python3"
  },
  "language_info": {
   "codemirror_mode": {
    "name": "ipython",
    "version": 3
   },
   "file_extension": ".py",
   "mimetype": "text/x-python",
   "name": "python",
   "nbconvert_exporter": "python",
   "pygments_lexer": "ipython3",
   "version": "3.11.3"
  }
 },
 "nbformat": 4,
 "nbformat_minor": 2
}
