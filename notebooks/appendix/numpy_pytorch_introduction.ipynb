{
 "cells": [
  {
   "cell_type": "markdown",
   "metadata": {},
   "source": [
    "# NumPy"
   ]
  },
  {
   "cell_type": "markdown",
   "metadata": {},
   "source": [
    "# PyTorch"
   ]
  },
  {
   "cell_type": "code",
   "execution_count": null,
   "metadata": {},
   "outputs": [],
   "source": [
    "import torch\n",
    "from torch import nn"
   ]
  },
  {
   "cell_type": "code",
   "execution_count": null,
   "metadata": {},
   "outputs": [],
   "source": [
    "class CustomModel(nn.Module):\n",
    "    def __init__(self):\n",
    "        super(CustomModel, self).__init__()\n",
    "        self.linear1 = nn.Linear(128, 64)\n",
    "        self.linear2 = nn.Linear(64, 10)\n",
    "\n",
    "    def forward(self, x):\n",
    "        x = self.linear1(x)\n",
    "        x = self.linear2(x)\n",
    "        return x"
   ]
  },
  {
   "cell_type": "code",
   "execution_count": null,
   "metadata": {},
   "outputs": [],
   "source": [
    "model = CustomModel()\n",
    "print(model)\n",
    "# CustomModel(\n",
    "#   (linear1): Linear(in_features=128, out_features=64, bias=True)\n",
    "#   (linear2): Linear(in_features=64, out_features=10, bias=True)\n",
    "# )"
   ]
  },
  {
   "cell_type": "code",
   "execution_count": null,
   "metadata": {},
   "outputs": [],
   "source": [
    "class CustomModel1(nn.Module):\n",
    "    def __init__(self):\n",
    "        super(CustomModel1, self).__init__()\n",
    "        units = [128, 64, 32, 16, 10]\n",
    "        self.layers = nn.ModuleList(\n",
    "            [nn.Linear(units[i], units[i + 1]) for i in range(len(units) - 1)]\n",
    "        )\n",
    "\n",
    "    def forward(self, x):\n",
    "        for layer in self.layers:\n",
    "            x = layer(x)\n",
    "        return x"
   ]
  },
  {
   "cell_type": "code",
   "execution_count": null,
   "metadata": {},
   "outputs": [],
   "source": [
    "model1 = CustomModel1()\n",
    "print(model1)\n",
    "# CustomModel1(\n",
    "#   (layers): ModuleList(\n",
    "#     (0): Linear(in_features=128, out_features=64, bias=True)\n",
    "#     (1): Linear(in_features=64, out_features=32, bias=True)\n",
    "#     (2): Linear(in_features=32, out_features=16, bias=True)\n",
    "#     (3): Linear(in_features=16, out_features=10, bias=True)\n",
    "#   )\n",
    "# )"
   ]
  },
  {
   "cell_type": "code",
   "execution_count": null,
   "metadata": {},
   "outputs": [],
   "source": [
    "class CustomModel2(nn.Module):\n",
    "    def __init__(self):\n",
    "        super(CustomModel2, self).__init__()\n",
    "        units = [128, 64, 32, 16, 10]\n",
    "        self.layers = [nn.Linear(units[i], units[i + 1]) for i in range(len(units) - 1)]\n",
    "\n",
    "    def forward(self, x):\n",
    "        for layer in self.layers:\n",
    "            x = layer(x)\n",
    "        return x"
   ]
  },
  {
   "cell_type": "code",
   "execution_count": null,
   "metadata": {},
   "outputs": [],
   "source": [
    "model2 = CustomModel2()\n",
    "print(model2)\n",
    "# CustomModel2()"
   ]
  },
  {
   "cell_type": "code",
   "execution_count": null,
   "metadata": {},
   "outputs": [],
   "source": [
    "import torch.nn.functional as F\n",
    "\n",
    "x = torch.randn(10)\n",
    "relu_func = nn.ReLU()\n",
    "y1 = relu_func(x)\n",
    "y2 = F.relu(x)\n",
    "\n",
    "print(all(y1 == y2))  # True"
   ]
  },
  {
   "cell_type": "code",
   "execution_count": null,
   "metadata": {},
   "outputs": [],
   "source": [
    "criterion = nn.CrossEntropyLoss()\n",
    "\n",
    "# モデルの予測値のダミーデータ\n",
    "predicted = torch.tensor([[0.1, 0.2, 0.7], [0.8, 0.1, 0.1]], requires_grad=True)\n",
    "# 教師データ\n",
    "target = torch.tensor([2, 0])\n",
    "\n",
    "loss = criterion(predicted, target)\n",
    "print(loss)"
   ]
  },
  {
   "cell_type": "code",
   "execution_count": null,
   "metadata": {},
   "outputs": [],
   "source": [
    "predicted = torch.tensor([[0.1, 0.2, 0.7], [0.8, 0.1, 0.1]], requires_grad=True)\n",
    "target = torch.tensor([[0.0, 0.0, 1.0], [1.0, 0.0, 0.0]])\n",
    "loss = criterion(predicted, target)\n",
    "print(loss)"
   ]
  },
  {
   "cell_type": "code",
   "execution_count": null,
   "metadata": {},
   "outputs": [],
   "source": [
    "# data_loader = None\n",
    "# n_epochs = 10\n",
    "# # 必要なものの定義\n",
    "# model = CustomModel()\n",
    "# optimizer = torch.optim.AdamW(model.parameters(), lr=0.001)\n",
    "# scheduler = torch.optim.lr_scheduler.StepLR(optimizer, step_size=30, gamma=0.1)\n",
    "#\n",
    "# for epoch in range(n_epochs):\n",
    "#     # エポック内のデータについてループする. data_loaderは後述\n",
    "# \tfor input_data, target in data_loader:\n",
    "#         optimizer.zero_grad() # 勾配情報の初期化\n",
    "#         output = model(input_data) # モデル出力の計算\n",
    "#         loss = criterion(output, target) # 損失関数の計算\n",
    "#         loss.backward() # 勾配の計算 (誤差逆伝播)\n",
    "#         optimizer.step() # パラメータの更新\n",
    "#     evaluate(model, eval_data)# 検証データに関して損失や精度を計算\n",
    "#     scheduler.step() # スケジューラの更新"
   ]
  },
  {
   "cell_type": "code",
   "execution_count": null,
   "metadata": {},
   "outputs": [],
   "source": [
    "import torch\n",
    "from torch.utils.data import Dataset\n",
    "\n",
    "\n",
    "class CustomDataset(Dataset):\n",
    "    def __init__(self, data, targets):\n",
    "        self.data = data\n",
    "        self.targets = targets\n",
    "\n",
    "    def __len__(self):\n",
    "        return len(self.data)\n",
    "\n",
    "    def __getitem__(self, idx):\n",
    "        return self.data[idx], self.targets[idx]\n",
    "\n",
    "\n",
    "# ダミーデータの作成\n",
    "data = torch.randn(100, 3, 32, 32)  # 100個の32x32画像\n",
    "targets = torch.randint(0, 10, (100,))  # 100個のラベル\n",
    "\n",
    "dataset = CustomDataset(data, targets)"
   ]
  },
  {
   "cell_type": "code",
   "execution_count": null,
   "metadata": {},
   "outputs": [],
   "source": [
    "from torch.utils.data import DataLoader\n",
    "\n",
    "dataloader = DataLoader(dataset, batch_size=4, shuffle=True)\n",
    "\n",
    "# データローダの使用例\n",
    "for input_data, targets in dataloader:\n",
    "    print(f\"Data: {input_data.shape}\")\n",
    "    print(f\"Targets: {targets.shape}\")"
   ]
  },
  {
   "cell_type": "code",
   "execution_count": null,
   "metadata": {},
   "outputs": [],
   "source": []
  }
 ],
 "metadata": {
  "kernelspec": {
   "display_name": ".venv",
   "language": "python",
   "name": "python3"
  },
  "language_info": {
   "codemirror_mode": {
    "name": "ipython",
    "version": 3
   },
   "file_extension": ".py",
   "mimetype": "text/x-python",
   "name": "python",
   "nbconvert_exporter": "python",
   "pygments_lexer": "ipython3",
   "version": "3.11.3"
  }
 },
 "nbformat": 4,
 "nbformat_minor": 2
}
