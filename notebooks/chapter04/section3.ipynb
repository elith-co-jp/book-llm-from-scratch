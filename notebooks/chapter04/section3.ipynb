{
 "cells": [
  {
   "cell_type": "markdown",
   "metadata": {},
   "source": [
    "## データのダウンロード"
   ]
  },
  {
   "cell_type": "code",
   "execution_count": 16,
   "metadata": {},
   "outputs": [],
   "source": [
    "import requests\n",
    "\n",
    "\n",
    "def download_file(url, save_path):\n",
    "    with open(save_path, \"wb\") as file:\n",
    "        response = requests.get(url)\n",
    "        file.write(response.content)\n",
    "\n",
    "\n",
    "path = \"arxiv.jsonl\"\n",
    "download_url = \"https://data.together.xyz/redpajama-data-1T/v1.0.0/arxiv/arxiv_023827cd-7ee8-42e6-aa7b-661731f4c70f.jsonl\"\n",
    "download_file(download_url, path)"
   ]
  },
  {
   "cell_type": "code",
   "execution_count": 17,
   "metadata": {},
   "outputs": [
    {
     "name": "stdout",
     "output_type": "stream",
     "text": [
      "dict_keys(['text', 'meta'])\n"
     ]
    }
   ],
   "source": [
    "# データの確認\n",
    "import json\n",
    "\n",
    "with open(path, \"r\") as f:\n",
    "    d = json.loads(f.readline())\n",
    "\n",
    "print(d.keys())"
   ]
  },
  {
   "cell_type": "code",
   "execution_count": 20,
   "metadata": {},
   "outputs": [
    {
     "name": "stdout",
     "output_type": "stream",
     "text": [
      "{'content_hash': '91f446bb78faf3093f30e0586b5e78a4', 'timestamp': '', 'source': 'github', 'line_count': 26, 'max_line_length': 78, 'avg_line_length': 28.192307692307693, 'alnum_prop': 0.7421555252387448, 'repo_name': 'coca-cola33/CloudFilm', 'id': '585abba6f2aa05e68e870464ce47fbf0fbf3a35a', 'size': '733', 'binary': False, 'copies': '1', 'ref': 'refs/heads/master', 'path': 'common/src/androidTest/java/kg/jl/common/ExampleInstrumentedTest.java', 'mode': '33188', 'license': 'apache-2.0', 'language': [{'name': 'Java', 'bytes': '887574'}]}\n"
     ]
    }
   ],
   "source": [
    "print(d[\"meta\"])"
   ]
  },
  {
   "cell_type": "code",
   "execution_count": 13,
   "metadata": {},
   "outputs": [],
   "source": [
    "# データの読み込み\n",
    "import json\n",
    "\n",
    "\n",
    "with open(path, \"r\") as f:\n",
    "    texts = [json.loads(line)[\"text\"] for line in f]"
   ]
  },
  {
   "cell_type": "markdown",
   "metadata": {},
   "source": [
    "## データの前処理"
   ]
  },
  {
   "cell_type": "code",
   "execution_count": 12,
   "metadata": {},
   "outputs": [
    {
     "name": "stdout",
     "output_type": "stream",
     "text": [
      "16767\n"
     ]
    }
   ],
   "source": []
  },
  {
   "cell_type": "code",
   "execution_count": null,
   "metadata": {},
   "outputs": [],
   "source": []
  }
 ],
 "metadata": {
  "kernelspec": {
   "display_name": ".venv",
   "language": "python",
   "name": "python3"
  },
  "language_info": {
   "codemirror_mode": {
    "name": "ipython",
    "version": 3
   },
   "file_extension": ".py",
   "mimetype": "text/x-python",
   "name": "python",
   "nbconvert_exporter": "python",
   "pygments_lexer": "ipython3",
   "version": "3.11.3"
  }
 },
 "nbformat": 4,
 "nbformat_minor": 2
}
