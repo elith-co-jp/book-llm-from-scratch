{
 "cells": [
  {
   "cell_type": "markdown",
   "id": "71ea149c-7803-4901-a2d6-eee815a4cf24",
   "metadata": {},
   "source": [
    "wikipediaデータをダウンロード"
   ]
  },
  {
   "cell_type": "code",
   "execution_count": 2,
   "id": "e4477a83-0ab6-4e9c-a7d8-2fa197b7c57f",
   "metadata": {},
   "outputs": [
    {
     "name": "stdout",
     "output_type": "stream",
     "text": [
      "CPU times: user 32.6 ms, sys: 1.66 ms, total: 34.3 ms\n",
      "Wall time: 33.7 ms\n"
     ]
    }
   ],
   "source": [
    "%%time\n",
    "\n",
    "import bz2\n",
    "import shutil\n",
    "from pathlib import Path\n",
    "\n",
    "import requests\n",
    "\n",
    "\n",
    "def download_file(url: str, output_path: Path) -> None:\n",
    "    # ファイルのダウンロード\n",
    "    print(\"Downloading...\")\n",
    "    response = requests.get(url, stream=True)\n",
    "    with open(output_path, \"wb\") as file:\n",
    "        shutil.copyfileobj(response.raw, file)\n",
    "    print(\"Download complete.\")\n",
    "\n",
    "\n",
    "def decompress_bz2(input_path: Path, output_path: Path) -> None:\n",
    "    # BZ2ファイルを解凍\n",
    "    print(\"Decompressing...\")\n",
    "    with bz2.BZ2File(input_path, \"rb\") as input_file, open(\n",
    "        output_path, \"wb\"\n",
    "    ) as output_file:\n",
    "        shutil.copyfileobj(input_file, output_file)\n",
    "    print(\"Decompression complete.\")\n",
    "\n",
    "\n",
    "def download_and_decompress(url: str, output_dir: Path, output_filename: str) -> None:\n",
    "    # 出力ディレクトリの確認と作成\n",
    "    output_dir.mkdir(parents=True, exist_ok=True)\n",
    "    print(f\"Created directory {output_dir}\")\n",
    "\n",
    "    # ファイルのダウンロード\n",
    "    temp_path = output_dir / (output_filename + \".bz2\")\n",
    "    download_file(url, temp_path)\n",
    "\n",
    "    # BZ2ファイルを解凍\n",
    "    decompressed_path = output_dir / output_filename\n",
    "    decompress_bz2(temp_path, decompressed_path)\n",
    "\n",
    "    # 一時ファイルを削除\n",
    "    print(\"Cleaning up...\")\n",
    "    temp_path.unlink()\n",
    "    print(\"Cleanup complete.\")\n",
    "\n",
    "\n",
    "url = (\n",
    "    \"https://dumps.wikimedia.org/jawiki/20240401/jawiki-20240401-pages-articles.xml.bz2\"\n",
    ")\n",
    "output_dir = Path(\"./data\")\n",
    "output_filename = \"jawiki-20240401-pages-articles.xml\"\n",
    "\n",
    "download_and_decompress(url, output_dir, output_filename)\n"
   ]
  },
  {
   "cell_type": "markdown",
   "id": "2dd41893-b852-4feb-8d68-edfde6d7656a",
   "metadata": {},
   "source": [
    "## テキストデータの抽出し、データクレンジング  \n",
    "テキストクレンジングではneologdnを利用して、全角・半角の統一などを行なっている"
   ]
  },
  {
   "cell_type": "code",
   "execution_count": 16,
   "id": "b5d769b5-8ee4-48bd-8ad7-9501d8919e01",
   "metadata": {},
   "outputs": [
    {
     "name": "stdout",
     "output_type": "stream",
     "text": [
      "CPU times: user 7min 51s, sys: 7.9 s, total: 7min 59s\n",
      "Wall time: 15min 30s\n"
     ]
    }
   ],
   "source": [
    "%%time\n",
    "import unicodedata\n",
    "\n",
    "import neologdn\n",
    "\n",
    "# xmlからテキストを抽出\n",
    "!python -m wikiextractor.WikiExtractor ./data/jawiki-20240401-pages-articles.xml -b 10G --json\n",
    "\n",
    "# ファイルをjsonl形式に変更\n",
    "wiki_path = Path(\"./text/AA/wiki_00\")\n",
    "rename_path = Path(\"./text/AA/wiki_00.jsonl\")\n",
    "wiki_path.rename(rename_path)\n",
    "wiki_path = rename_path\n",
    "\n",
    "# 文字コードの変換\n",
    "output_file = output_dir/\"wiki.jsonl\"\n",
    "\n",
    "# 出力ファイルを開く\n",
    "with open(output_file, \"w\", encoding=\"utf-8\") as output_file:\n",
    "    # 入力ファイルを開いて、一行ずつ処理\n",
    "    with open(wiki_path, \"r\", encoding=\"ascii\") as input_file:\n",
    "        for line in input_file:\n",
    "            # 各行をJSONオブジェクトとして解析\n",
    "            data = json.loads(line)\n",
    "\n",
    "            # データの正規化\n",
    "            normalized_text = neologdn.normalize(data[\"text\"])\n",
    "            normalized_text = unicodedata.normalize(\"NFKC\", normalized_text)\n",
    "            data[\"normalized_text\"] = normalized_text\n",
    "            \n",
    "            # JSONオブジェクトをJSON Lines形式で書き出し\n",
    "            output_file.write(json.dumps(data, ensure_ascii=False) + \"\\n\")\n",
    "\n",
    "shutil.rmtree(\"./text\")"
   ]
  },
  {
   "cell_type": "markdown",
   "id": "d095522a-302a-42b3-92cb-c8092e830646",
   "metadata": {},
   "source": [
    "テキストデータの抽出"
   ]
  },
  {
   "cell_type": "code",
   "execution_count": 3,
   "id": "6f12afc6-f022-4329-9a72-b58469581dc2",
   "metadata": {},
   "outputs": [
    {
     "name": "stdout",
     "output_type": "stream",
     "text": [
      "CPU times: user 8min 12s, sys: 14.6 s, total: 8min 27s\n",
      "Wall time: 8min 28s\n"
     ]
    }
   ],
   "source": [
    "%%time\n",
    "\n",
    "import mwxml\n",
    "import json\n",
    "\n",
    "dump_file = output_dir/output_filename\n",
    "\n",
    "with open(output_dir/\"wiki.jsonl\", 'a', encoding='utf-8') as output_file:\n",
    "    for page in mwxml.Dump.from_file(dump_file):\n",
    "        # 通常の記事であり、リダイレクトページでないものを抽出\n",
    "        if (page.namespace == 0) and (page.redirect is None):\n",
    "            id = page.id\n",
    "            title = page.title\n",
    "            for revision in page:\n",
    "                text = revision.text\n",
    "                if text:\n",
    "                    break\n",
    "    \n",
    "            # 記事のタイトルとテキストをJSON形式に変換する\n",
    "            article_json = json.dumps({\n",
    "                'id': id,\n",
    "                'title': title,\n",
    "                'text': text,\n",
    "            }, ensure_ascii=False)\n",
    "    \n",
    "            # JSONをファイルに書き込む\n",
    "            output_file.write(article_json + '\\n')"
   ]
  },
  {
   "cell_type": "code",
   "execution_count": 4,
   "id": "90f89835-cf9c-4b38-b542-12a57e14aed6",
   "metadata": {},
   "outputs": [
    {
     "data": {
      "text/plain": [
       "<_io.TextIOWrapper name='data/wiki.jsonl' mode='a' encoding='utf-8'>"
      ]
     },
     "execution_count": 4,
     "metadata": {},
     "output_type": "execute_result"
    }
   ],
   "source": [
    "output_file"
   ]
  },
  {
   "cell_type": "code",
   "execution_count": 20,
   "id": "f6587a41-4fb1-4102-8d64-1622b445f19b",
   "metadata": {},
   "outputs": [],
   "source": [
    "dump = mwxml.Dump.from_file(dump_file)"
   ]
  },
  {
   "cell_type": "code",
   "execution_count": 30,
   "id": "941ae1d7-2298-472d-8255-0fc66f4d25b0",
   "metadata": {},
   "outputs": [],
   "source": [
    "for revision in page:\n",
    "    text = revision.text\n",
    "    if text:\n",
    "        break"
   ]
  },
  {
   "cell_type": "code",
   "execution_count": 31,
   "id": "1de4ee20-5a7f-4345-9fce-44f24d31fc66",
   "metadata": {},
   "outputs": [
    {
     "data": {
      "text/plain": [
       "'{{Redirect|&}}\\n{{Otheruses|記号|競走馬|アンパサンド (競走馬)}}\\n{{WikipediaPage|「アンパサンド (＆)」の使用|WP:JPE#具体例による説明}}\\n{{複数の問題|出典の明記=2018年10月8日 (月) 14:50 (UTC)|独自研究=2018年10月8日 (月) 14:50 (UTC)}}\\n{{記号文字|&amp;}}\\n[[File:Trebuchet MS ampersand.svg|thumb|100px|[[Trebuchet MS]] フォント]]\\n\\'\\'\\'アンパサンド\\'\\'\\'（\\'\\'\\'&amp;\\'\\'\\', {{Lang-en|ampersand}}）は、並立助詞「…と…」を意味する[[記号]]である。[[ラテン語]]で「…と…」を表す接続詞 \"et\" の[[合字]]を起源とする。現代のフォントでも、[[Trebuchet MS]] など一部のフォントでは、\"et\" の合字であることが容易にわかる字形を使用している。\\n\\n== 語源 ==\\n{{quote|The term ampersand is a corruption of and (&) per se and, which literally means \"(the character) & by itself (is the word) and.\" The symbol & is derived from the ligature of ET or et, which is the Latin word for \"and.\"<br>\\n訳: アンパサンドという言葉は、\\'\\'and (&) per se and\\'\\'（\"&\" という文字それ自体が \"and\" という言葉を意味する）が[[言語変化|転訛]]したものである。& の記号は、ラテン語で \"and\" を意味する \"[[:wikt:et|ET]]\" または et の[[合字]]が元になっている。|source = Geoffrey Glaister, \\'\\'Glossary of the Book\\'\\'<ref name=\"adobe\">{{cite book |last=[[:en:Geoffrey Glaister|Glaister]]|first=[[:en:Geoffrey Glaister|Geoffrey Ashall]]|title=Glossary of the Book|url=https://archive.org/details/glosaryofbook0000unse|url-access=registration|year=1960|publisher=[[:en:Allen & Unwin|George Allen & Unwin]]|location=London}}. 引用元: {{cite web |last=Caflisch |first=Max |archiveurl=https://web.archive.org/web/20130113202304/https://www.adobe.com/type/topics/theampersand.html |archivedate=13 January 2013 |url=https://www.adobe.com/type/topics/theampersand.html|title=The ampersand|work=Adobe Fonts|publisher=[[アドビ|Adobe Systems]] |accessdate=2021-04-17|url-status=dead}}</ref>}}\\n\\n英語で教育を行う学校で[[英語アルファベット|アルファベット]]を復唱する場合、その文字自体が単語となる文字（\"A\", \"I\", かつては \"[[:en:Vocative case#English|O]]\" も）については、伝統的にラテン語の \\'\\'[[:en:wikt:per se|per se]]\\'\\'（それ自体）を用いて \"A per se A\" のように唱えられていた<ref name=aglossary>{{cite book |last=Nares |first=Robert |author-link=:en:Robert Nares |title=A Glossary |url=https://books.google.com/books?id=n9bfivi9ti4C&pg=PA1 |accessdate=2021-04-17 |year=2011 |origyear=first published 1822 |publisher=[[Cambridge University Press]] |isbn=9781108035996 |page=1}}</ref><ref name=worddetective>{{cite web|url=http://www.word-detective.com/052003.html#ampersand |title=The ampersand |work=word-detective |url-status=dead |archiveurl=https://web.archive.org/web/20080508140613/http://www.word-detective.com/052003.html |archivedate=8 May 2008 |accessdate=2021-04-17}}</ref>。また、アルファベットの最後に、27番目の文字のように \"&\" を加えることも広く行われていた。\"&\" はラテン語で \\'\\'et\\'\\' と読まれていたが、のちに英語で \\'\\'and\\'\\' と読まれるようになった。結果として、アルファベットの復唱の最後は \"X, Y, Z, \\'\\'and per se and\\'\\'\" という形になった。この最後のフレーズが繰り返されるうちに \"ampersand\" となまっていき、この言葉は1837年までには英語の一般的な語法となった<ref name=worddetective/><ref>{{cite web|url=http://hotword.dictionary.com/ampersand/|title=What character was removed from the alphabet but is still used every day?|date=2 September 2011|work=The Hot Word|publisher=Dictionary.com |accessdate=2021-04-17}}</ref><ref>{{OED|ampersand}} {{subscription}}</ref>。\\n\\n[[アンドレ＝マリ・アンペール]]がこの記号を自身の著作で使い、これが広く読まれたため、この記号が \"Ampère\\'s and\" と呼ばれるようになったという誤った語源俗説がある<ref>この俗説の例は、 Jessie Bedford, Elizabeth Godfrey: [https://books.google.com/books?id=AL0KAAAAIAAJ&pg=PA22 English Children in the Olden Time, page 22]. Methuen & co, 1907, p. 22; Harry Alfred Long: [https://books.google.com/books?id=AWgSAAAAYAAJ&pg=PA98 Personal and Family Names, page 98]. Hamilton, Adams & co, 1883. などで見られる。</ref>。\\n\\n== 歴史 ==\\n[[File:Historical ampersand evolution.svg|thumb|left|390px|アンパサンドの変遷 字形1から6]]\\n[[File:Ampersand.svg|thumb|left|現代のアンパサンドはカロリング小文字体のものとほぼ同じ。右のイタリック体アンパサンドはより新しい et の合字が元になっている。]]\\n[[File:etlig.svg|left|frame|[[インシュラー体]]の et の合字。]]\\n\\nアンパサンドの起源は1世紀の[[ローマ筆記体#古ローマ筆記体|古ローマ筆記体]]にまでさかのぼることができる。古ローマ筆記体では、E と T はしばしば合字として繋げて書かれていた（左図「アンパサンドの変遷」の字形1）。それに続く、流麗さを増した[[ローマ筆記体#新ローマ筆記体|新ローマ筆記体]]では、さまざまな合字が極めて頻繁に使われるようになった。字形2と3は4世紀中頃における et の合字の例である。その後、9世紀の[[カロリング小文字体]]に至るラテン文字の変遷の過程で、合字の使用は一般には廃れていった。しかし、et の合字は使われ続け、次第に元の文字がわかりにくい字形に変化していった（字形4から6）<ref>Jan Tschichold: [https://web.archive.org/web/20140701/http://www.typeforum.de/modules.php?op=modload&name=News&file=article&sid=41&mode=&order=0 \"Formenwandlung der et-Zeichen.\"]</ref>。\\n\\n現代の[[イタリック体]]のアンパサンドは、[[ルネサンス|ルネサンス期]]に発展した筆記体での et の合字にさかのぼる。1455年のヨーロッパにおける[[印刷|印刷技術]]の発明以降、印刷業者はイタリック体とローマ筆記体のアンパサンドの両方を多用するようになった。アンパサンドのルーツはローマ時代にさかのぼるため、[[ラテン文字|ラテンアルファベット]]を使用する多くの言語でアンパサンドが使用されるようになった。\\n\\nアンパサンドはしばしばラテンアルファベットの最後の文字とされることがあった。たとえば1011年の[[:en:Byrhtferth|Byrhtferth]]の文字表がその例である<ref>{{cite web|last=Everson|first=Michael|author2=Sigurðsson, Baldur|author3=Málstöð, Íslensk|date=7 June 1994|title=On the status of the Latin letter þorn and of its sorting order|url=http://www.evertype.com/standards/wynnyogh/thorn.html|url-status=live|work=Evertype|accessdate=2021-04-18}}</ref>。同様に、\"&\" は英語アルファベットの27番目の文字とされ、アメリカ合衆国やその他の地域でも、子供達はアンパサンドはアルファベットの最後の文字だと教えられていた。1863年の M. B. Moore の著書 \\'\\'The Dixie Primer, for the Little Folks\\'\\' にその一例を見ることができる<ref>{{cite web|url=http://docsouth.unc.edu/imls/moore/moore.html#moore5|work=Branson, Farrar & Co., Raleigh NC|title=The Dixie Primer, for the Little Folks|accessdate=2021-04-18}}</ref>。[[ジョージ・エリオット]]は、1859年に発表した小説「{{仮リンク|アダム・ビード|en|Adam Bede}}」の中で、Jacob Storey に次のセリフを語らせている。\"He thought it <nowiki>[Z]</nowiki> had only been put to finish off th\\' alphabet like; though ampusand would ha\\' done as well, for what he could see.\"<ref>{{cite book |first=George |last=Eliot |title=Adam Bede |chapter=Chapter XXI |chapter-url=https://www.gutenberg.org/files/507/507-h/507-h.htm#link2HCH0021 |accessdate=2021-04-18 |publisher=[[プロジェクト・グーテンベルク|Project Gutenberg]]}}</ref> よく知られた童謡の [[:en:Apple Pie ABC|Apple Pie ABC]] は  \"X, Y, Z, and ampersand, All wished for a piece in hand\" という歌詞で締めくくられる。\\n\\nアンパサンドは、[[ティロの速記|ティロ式記号]]の et (\"⁊\", Unicode U+204A) とは別のものである。ティロ式記号の et は、アンパサンドと意味は同じだが数字の「7」に似た形の記号である。両者はともに古代から使用され、中世を通してラテン語の \\'\\'et\\'\\' を表すために使用された。しかし、アンパサンドとティロ式記号の et はそれぞれ独立に発明されたものである<ref>{{cite web|url=http://www.etymonline.com/index.php?term=ampersand |title=Ampersand|work=The Online Etymological Dictionary|accessdate=2021-04-18}}</ref>。ラテン文字から発展した[[古アイルランド語]]の文字では、アイルランド語の \\'\\'agus\\'\\'（「…と…」）を表すためにティロ式記号の et が使用されていた。今日は[[ゲール文字]]の一部として主に装飾的な目的で使用されている。この文字はアイルランドにおけるキリスト教時代初期に修道院の影響によって書き文字に加わった可能性がある。\\n\\n{{clear}}\\n\\n==手書き==\\n日常的な手書きの場合、[[欧米]]では小文字の {{el|[[ε]]}}（エプシロン）を大きくしたもの（あるいは数字の \"3\" の鏡文字）に縦線を加えた形の単純化されたアンパサンドがしばしば使われる<ref name=\"handwriting\" />。また、エプシロンの上下に縦線または点を付けたものもしばしば使われる<ref name=\"handwriting\" />。\\n\\nくだけた用法として、[[プラス記号とマイナス記号|プラス記号]]（\"+\", この記号もまた et の合字である<ref>{{cite book|last=Cajori|first=Florian|title=A History of Mathematical Notations, Vol. 1|chapter-url=https://archive.org/details/in.ernet.dli.2015.200372|year=1928|publisher=The Open Court Company, Publishers|chapter=Origin and meanings of the signs + and −}}</ref>）がアンパサンドの代わりに使われることがある。また、プラス記号に輪を重ねたような、[[無声歯茎側面摩擦音]]を示す[[発音記号]]「{{IPA|ɬ}}」のようなものが使われることもある。{{citation needed|date=May 2020}}\\n\\n<gallery>\\nFile:Ampersand Handwriting 1.jpg|手書きのアンパサンド（エプシロンに縦線を引いた書体）<ref name=\"handwriting\">{{cite web|url=https://www.webpagefx.com/blog/web-design/visual-guide-ampersand/|work=Six Revisions|title=A Visual Guide to the Ampersand (Infographic)|accessdate=2021-04-18}}</ref>\\n\\nFile:Ampersand Handwriting 3.jpg|エプシロンの上下端にそれぞれ縦線が付いたタイプ<ref name=\"handwriting\" />\\n\\nFile:Epsilon Ampersand.png|エプシロンと縦線による手書きを元にしたアンパサンドの字形の一種<ref name=\"handwriting\" />\\n\\nFile:Ampersand Handwriting 2.jpg|アンパサンドの代用として手書きのプラス記号を使用した場合の例\\n</gallery>\\n\\n== 同様の記号 ==\\n[[ティロの速記]]には「et」を表すための「{{unicode|⁊}}」(U+204A Tironian sign et)がある。この文字は[[ドイツ]]の[[フラクトゥール]]で使われたほか、[[ゲール文字]]でも使用される。\\n\\n[[ギリシア文字]]では「……と」を意味する{{el|και}}を表すための[[合字]]として「{{el|ϗ}}」(U+03D7 Greek kai symbol)が使われることがある。\\n{|class=\"wikitable\"\\n|[[File:Fliegende Blätter Band 1 (München 1845) Nr. 21 S. 168.png|400px|frameless]]\\n|フラクトゥールで「etc.」を「{{unicode|⁊c.}}」と書いた例（1845年の雑誌記事より）。\\n|-\\n|[[File:Caslon Greek type sample.jpeg|350px|frameless]]\\n|2行目に「{{el|ϗ}}」を使用（18世紀のギリシア文字の活字サンプル、[[クセノポン]]『[[ソクラテスの思い出]]』2.1.21より）。\\n|}\\n\\n== プログラミング言語 ==\\n[[プログラミング言語]]では、[[C言語|C]] など多数の言語で AND [[演算子 (コンピュータ言語)|演算子]]として用いられる。以下は C の例。\\n* <code>X = A \\'\\'\\'&amp;&amp;\\'\\'\\' B</code> のように2個重ねたものは[[論理積|論理 AND]] を表す。この場合 A, B がともに真ならば X も真、それ以外は偽である。\\n* <code>0x12345678 \\'\\'\\'&amp;\\'\\'\\' 0x0f0f0f0f</code> のように1個であれば[[ビット演算#AND|ビット AND]] を表す。この場合の結果は <code>0x02040608</code> である。\\n[[PHP (プログラミング言語)|PHP]]では、変数宣言記号（$）の直前に記述することで、[[参照渡し]]を行うことができる。\\n\\n[[BASIC]] 系列の言語では[[文字列]]の連結演算子として使用される。<code>\"foo\" \\'\\'\\'&amp;\\'\\'\\' \"bar\"</code> は <code>\"foobar\"</code> を返す。また、主に[[マイクロソフト]]系では整数の[[十六進法|十六進表記]]に \\'\\'\\'<code>&amp;h</code>\\'\\'\\' を用い、<code>&amp;h0F</code> （十進で15）のように表現する。\\n\\n[[Standard Generalized Markup Language|SGML]]、[[Extensible Markup Language|XML]]、[[HyperText Markup Language|HTML]]では、アンパサンドを使って[[SGML実体]]を参照する。\\n\\n== 符号位置 ==\\n{| class=\"wikitable\" style=\"text-align:center;\"\\n!記号!![[Unicode]]!![[JIS X 0213]]!![[文字参照]]!!名称\\n{{CharCode|38|0026|1-1-85|Ampersand|amp}}\\n{{CharCode|1789|06fd|-|Arabic Sign Sindhi Ampersand}}\\n{{CharCode|8266|204a|-|Tironian Sign Et}}\\n{{CharCode|8523|214b|-|Turned Ampersand}}\\n{{CharCode|11858|2e52|-|Tironian Sign Capital Et}}\\n{{CharCode|65120|fe60|-|Small Ampersand}}\\n{{CharCode|65286|ff06|1-1-85|アンパサンド（全角）}}\\n{{CharCode|128624|1f670|-|Script Ligature Et Ornament}}\\n{{CharCode|128625|1f671|-|Heavy Script Ligature Et Ornament}}\\n{{CharCode|128626|1f672|-|Ligature Open Et Ornament}}\\n{{CharCode|128627|1f673|-|Heavy Ligature Open Et Ornament}}\\n{{CharCode|128628|1f674|-|Heavy Ampersand Ornament}}\\n{{CharCode|128629|1f675|-|Swash Ampersand Ornament}}\\n|}\\n\\n== 脚注 ==\\n{{Reflist}}\\n\\n== 外部リンク ==\\n{{Commons|Ampersand}}\\n\\n{{punctuation marks|&amp;}}\\n{{DEFAULTSORT:あんはさんと}}\\n[[Category:約物]]\\n[[Category:ラテン語の語句]]\\n[[Category:論理記号]]'"
      ]
     },
     "execution_count": 31,
     "metadata": {},
     "output_type": "execute_result"
    }
   ],
   "source": [
    "text"
   ]
  },
  {
   "cell_type": "code",
   "execution_count": 27,
   "id": "fdbbbba7-0f74-4781-b3f5-84a9426dec8d",
   "metadata": {},
   "outputs": [
    {
     "data": {
      "text/plain": [
       "Page(id=22215, title='セッケン', namespace=0, redirect='石鹸', restrictions=[])"
      ]
     },
     "execution_count": 27,
     "metadata": {},
     "output_type": "execute_result"
    }
   ],
   "source": [
    "page"
   ]
  },
  {
   "cell_type": "code",
   "execution_count": null,
   "id": "987cdfb0-2cd3-4318-bdec-3ce103a33ee8",
   "metadata": {},
   "outputs": [],
   "source": []
  }
 ],
 "metadata": {
  "kernelspec": {
   "display_name": "Python 3 (ipykernel)",
   "language": "python",
   "name": "python3"
  },
  "language_info": {
   "codemirror_mode": {
    "name": "ipython",
    "version": 3
   },
   "file_extension": ".py",
   "mimetype": "text/x-python",
   "name": "python",
   "nbconvert_exporter": "python",
   "pygments_lexer": "ipython3",
   "version": "3.10.12"
  }
 },
 "nbformat": 4,
 "nbformat_minor": 5
}
